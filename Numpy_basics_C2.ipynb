{
 "cells": [
  {
   "cell_type": "markdown",
   "id": "bdcabcff-a404-41d4-b10f-fb7ffb5d2a16",
   "metadata": {},
   "source": [
    "# Accessing/changing specific elements, rows and columns"
   ]
  },
  {
   "cell_type": "code",
   "execution_count": 2,
   "id": "e0ea09bc-db7e-4572-8962-42c267d847d6",
   "metadata": {},
   "outputs": [],
   "source": [
    "## Import NumPy\n",
    "import numpy as np"
   ]
  },
  {
   "cell_type": "markdown",
   "id": "caf375a3-519e-4558-9741-414bc942feaa",
   "metadata": {},
   "source": [
    "## Declaring a new Matrix"
   ]
  },
  {
   "cell_type": "code",
   "execution_count": 5,
   "id": "54b40e0d-4129-4395-9ab6-0a9750b07c07",
   "metadata": {},
   "outputs": [
    {
     "name": "stdout",
     "output_type": "stream",
     "text": [
      "a = \n",
      "[[ 1  2  3  4  5  6  7]\n",
      " [ 8  9 10 11 12 13 14]]\n"
     ]
    }
   ],
   "source": [
    "a = np.array([[1,2,3,4,5,6,7],[8,9,10,11,12,13,14]])\n",
    "print(\"a = \")\n",
    "print(a)"
   ]
  },
  {
   "cell_type": "markdown",
   "id": "356adb2c-67c5-4503-9e86-b512ce4ce9f9",
   "metadata": {},
   "source": [
    "## Accessing a specific element"
   ]
  },
  {
   "cell_type": "code",
   "execution_count": 16,
   "id": "320f6c61-6147-40a2-9203-e3e6bebf3810",
   "metadata": {},
   "outputs": [
    {
     "name": "stdout",
     "output_type": "stream",
     "text": [
      "Shape of the matrix :  (2, 7)\n",
      "1st Element :  1\n",
      "2nd Element :  2\n",
      "8th Element :  8\n",
      "10th Element :  10\n"
     ]
    }
   ],
   "source": [
    "# Printing first element \n",
    "\n",
    "print(\"Shape of the matrix : \", a.shape)\n",
    "\n",
    "el_01 = a[0,0]\n",
    "print(\"1st Element : \", el_01)\n",
    "\n",
    "# Printing Second element \n",
    "\n",
    "el_02 = a[0,1]\n",
    "print(\"2nd Element : \", el_02)\n",
    "\n",
    "# Printing eighth element \n",
    "\n",
    "el_08 = a[1,0]\n",
    "print(\"8th Element : \", el_08)\n",
    "\n",
    "# Printing the 10th element i.e.,row 2 column 3\n",
    "# Remember index starts \n",
    "\n",
    "el_10 = a[1,2]\n",
    "print(\"10th Element : \", el_10)\n",
    "\n"
   ]
  },
  {
   "cell_type": "markdown",
   "id": "8a16a12e-cc0c-498d-a9b7-04cb79a04bf1",
   "metadata": {},
   "source": [
    "## Accessing a Specific Row"
   ]
  },
  {
   "cell_type": "code",
   "execution_count": 18,
   "id": "ee15ae0b-9014-4f68-b122-91fca80066bc",
   "metadata": {},
   "outputs": [
    {
     "name": "stdout",
     "output_type": "stream",
     "text": [
      "Row 1 =  [1 2 3 4 5 6 7]\n",
      "Row 2 =  [ 8  9 10 11 12 13 14]\n"
     ]
    }
   ],
   "source": [
    "a_row_1 = a[0,:]\n",
    "print(\"Row 1 = \", a_row_1)\n",
    "\n",
    "a_row_2 = a[1,:]\n",
    "print(\"Row 2 = \", a_row_2)"
   ]
  },
  {
   "cell_type": "markdown",
   "id": "4c487cac-ab72-4b02-892d-b7c5766c56da",
   "metadata": {},
   "source": [
    "## Accessing a Specific Row"
   ]
  },
  {
   "cell_type": "code",
   "execution_count": 20,
   "id": "d999d62a-a67b-4794-9e9e-e34811885531",
   "metadata": {},
   "outputs": [
    {
     "name": "stdout",
     "output_type": "stream",
     "text": [
      "Column 1 =  [1 8]\n",
      "Column 2 =  [2 9]\n",
      "Column 6 =  [ 7 14]\n"
     ]
    }
   ],
   "source": [
    "a_col_1 = a[:,0]\n",
    "print(\"Column 1 = \", a_col_1)\n",
    "\n",
    "a_col_2 = a[:,1]\n",
    "print(\"Column 2 = \", a_col_2)\n",
    "\n",
    "a_col_7 = a[:,6]\n",
    "print(\"Column 6 = \", a_col_7)"
   ]
  },
  {
   "cell_type": "markdown",
   "id": "05609ce2-28bc-4632-981d-f215178cdac3",
   "metadata": {},
   "source": [
    "## Skipping rows and columns"
   ]
  },
  {
   "cell_type": "code",
   "execution_count": 21,
   "id": "e8febb67-b83c-44d8-a19c-686a42375d5e",
   "metadata": {},
   "outputs": [
    {
     "name": "stdout",
     "output_type": "stream",
     "text": [
      "[[ 1  2  3  4  5  6  7]\n",
      " [ 8  9 10 11 12 13 14]]\n"
     ]
    }
   ],
   "source": [
    "print(a)"
   ]
  },
  {
   "cell_type": "code",
   "execution_count": 29,
   "id": "1512ddfb-41a0-4d46-be4d-b46f04c2a2e8",
   "metadata": {},
   "outputs": [
    {
     "name": "stdout",
     "output_type": "stream",
     "text": [
      "[2 4 6]\n",
      "[3 5]\n"
     ]
    }
   ],
   "source": [
    "# Print 2, 4 and 6\n",
    "a_skip = a[0,1:6:2]\n",
    "print(a_skip)\n",
    "a_skip_neg = a[0,2:-1:2]\n",
    "print(a_skip_neg)"
   ]
  },
  {
   "cell_type": "code",
   "execution_count": 35,
   "id": "65418222-f064-483d-ab34-4c58ac9dea6a",
   "metadata": {},
   "outputs": [
    {
     "name": "stdout",
     "output_type": "stream",
     "text": [
      "[[ 2  4  6]\n",
      " [ 9 11 13]]\n"
     ]
    }
   ],
   "source": [
    "a_col_skip = a[:,1:6:2]\n",
    "print(a_col_skip)"
   ]
  },
  {
   "cell_type": "markdown",
   "id": "e14b3850-9155-41a4-a49b-47f136568626",
   "metadata": {},
   "source": [
    "## Assigning value to an element"
   ]
  },
  {
   "cell_type": "code",
   "execution_count": 13,
   "id": "82cea2b9-84fa-4b28-b557-3bd45248ed5c",
   "metadata": {},
   "outputs": [
    {
     "name": "stdout",
     "output_type": "stream",
     "text": [
      "b = \n",
      "[[ 1  2  3  4  5  6  7]\n",
      " [ 8  9 10 11 12 13 14]]\n",
      "forth element =  4\n",
      "Changed 4th Element =  20\n"
     ]
    }
   ],
   "source": [
    "b = np.array([[1,2,3,4,5,6,7],[8,9,10,11,12,13,14]])\n",
    "print(\"b = \")\n",
    "print(b)\n",
    "b_4th_elem = b[0,3]\n",
    "print(\"forth element = \", b_4th_elem)\n",
    "\n",
    "# Changing or assignin new value to an element\n",
    "\n",
    "b[0,3] = 20\n",
    "print(\"Changed 4th Element = \", b[0,3])\n"
   ]
  },
  {
   "cell_type": "markdown",
   "id": "b739b57f-3371-4157-8308-e0444e00d30b",
   "metadata": {},
   "source": [
    "## Changing an entire column"
   ]
  },
  {
   "cell_type": "code",
   "execution_count": 19,
   "id": "2669ee11-2279-4ba2-a1c3-2c788f01139e",
   "metadata": {},
   "outputs": [
    {
     "name": "stdout",
     "output_type": "stream",
     "text": [
      "b = \n",
      "[[ 1  2  3  4  5  6  7]\n",
      " [ 8  9 10 11 12 13 14]]\n",
      "Column 2 =  [ 3 10]\n",
      "Changed Column 2 =  [5 5]\n",
      "Again changed Column 2 =  [1 2]\n"
     ]
    }
   ],
   "source": [
    "b = np.array([[1,2,3,4,5,6,7],[8,9,10,11,12,13,14]])\n",
    "print(\"b = \")\n",
    "print(b)\n",
    "column_2 = b[:,2]\n",
    "print(\"Column 2 = \", column_2)\n",
    "\n",
    "#Assign another value to the entire columns\n",
    "\n",
    "b[:,2] = 5\n",
    "print(\"Changed Column 2 = \", b[:,2])\n",
    "\n",
    "b[:,2] = [1,2]\n",
    "print(\"Again changed Column 2 = \", b[:,2])\n",
    "\n"
   ]
  },
  {
   "cell_type": "markdown",
   "id": "e451ce81-d997-4622-acaf-ea9834bdf10e",
   "metadata": {},
   "source": [
    "## Defining a 3-d Array"
   ]
  },
  {
   "cell_type": "code",
   "execution_count": 27,
   "id": "e009a690-e634-4048-9da5-4932bc49518f",
   "metadata": {},
   "outputs": [
    {
     "name": "stdout",
     "output_type": "stream",
     "text": [
      "[[[1 2]\n",
      "  [3 4]]\n",
      "\n",
      " [[5 6]\n",
      "  [7 8]]]\n",
      "4\n",
      "\n",
      "92\n",
      "[[[ 1  2]\n",
      "  [ 3 92]]\n",
      "\n",
      " [[ 5  6]\n",
      "  [ 7  8]]]\n"
     ]
    }
   ],
   "source": [
    "# Pay attention to the arrangement of the Square Brackets.\n",
    "c = np.array([[[1,2],[3,4]],[[5,6],[7,8]]])\n",
    "print(c)\n",
    "\n",
    "# Now lets print 4 from this 3-d matrix\n",
    "# Start from the outside of the matrix\n",
    "# 0 for the first 2-d matrix inside the 3-d matrix\n",
    "# 1 for the second row index inside the chosen 2-D matrix\n",
    "# 1 for the second element index in side the choses row.\n",
    "element = c[0,1,1]\n",
    "print(element)\n",
    "\n",
    "c[0,1,1] = 92\n",
    "print()\n",
    "\n",
    "new_element = c[0,1,1]\n",
    "print(new_element)\n",
    "print(c)"
   ]
  },
  {
   "cell_type": "code",
   "execution_count": 29,
   "id": "6465f66c-3b26-4206-8bd1-1be797d1d76f",
   "metadata": {},
   "outputs": [
    {
     "name": "stdout",
     "output_type": "stream",
     "text": [
      "[[[11 12]\n",
      "  [13 14]]\n",
      "\n",
      " [[ 5  6]\n",
      "  [ 7  8]]]\n"
     ]
    }
   ],
   "source": [
    "# Updating entire context of a 2-d matrix inside a 3-D matrix\n",
    "c[0,:,:] = [[11,12],[13,14]]\n",
    "print(c)"
   ]
  },
  {
   "cell_type": "code",
   "execution_count": 30,
   "id": "f5422631-74d8-41fa-8ee5-d836338f6721",
   "metadata": {},
   "outputs": [
    {
     "name": "stdout",
     "output_type": "stream",
     "text": [
      "[[[11 12]\n",
      "  [13 14]]\n",
      "\n",
      " [[ 5 33]\n",
      "  [ 7 33]]]\n"
     ]
    }
   ],
   "source": [
    "# Updating entire column of a 2-d matrix inside a 3-D matrix\n",
    "c[1,:,1] = [33,33]\n",
    "print(c)"
   ]
  },
  {
   "cell_type": "code",
   "execution_count": 31,
   "id": "e33c7be4-b4e9-4dc2-90e1-d479d9775f9b",
   "metadata": {},
   "outputs": [
    {
     "name": "stdout",
     "output_type": "stream",
     "text": [
      "[[[11 12]\n",
      "  [13 14]]\n",
      "\n",
      " [[20 20]\n",
      "  [ 7 33]]]\n"
     ]
    }
   ],
   "source": [
    "# Updating entire row of a 2-d matrix inside a 3-D matrix\n",
    "c[1,0,:] = [20,20]\n",
    "print(c)"
   ]
  },
  {
   "cell_type": "code",
   "execution_count": 32,
   "id": "3115ac13-05ab-445c-8abb-7adf04bb07e4",
   "metadata": {},
   "outputs": [
    {
     "name": "stdout",
     "output_type": "stream",
     "text": [
      "[[[10 10]\n",
      "  [13 14]]\n",
      "\n",
      " [[10 10]\n",
      "  [ 7 33]]]\n"
     ]
    }
   ],
   "source": [
    "# Updating entire row of all the 2-d matrices inside a 3-D matrix\n",
    "c[:,0,:] = [10,10]\n",
    "print(c)"
   ]
  },
  {
   "cell_type": "code",
   "execution_count": null,
   "id": "0ad94d81-600a-4ba8-992a-7b2d240db95e",
   "metadata": {},
   "outputs": [],
   "source": []
  }
 ],
 "metadata": {
  "kernelspec": {
   "display_name": "Python 3 (ipykernel)",
   "language": "python",
   "name": "python3"
  },
  "language_info": {
   "codemirror_mode": {
    "name": "ipython",
    "version": 3
   },
   "file_extension": ".py",
   "mimetype": "text/x-python",
   "name": "python",
   "nbconvert_exporter": "python",
   "pygments_lexer": "ipython3",
   "version": "3.12.1"
  }
 },
 "nbformat": 4,
 "nbformat_minor": 5
}
