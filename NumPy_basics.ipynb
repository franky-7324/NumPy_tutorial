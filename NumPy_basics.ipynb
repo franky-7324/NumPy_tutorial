{
 "cells": [
  {
   "cell_type": "markdown",
   "id": "ea21c1d9-f18f-45cb-b55f-a20268866913",
   "metadata": {},
   "source": [
    "# Numpy Tutorial : Basics"
   ]
  },
  {
   "cell_type": "markdown",
   "id": "033a630a-c960-4d08-9a66-b9851f77a5c3",
   "metadata": {},
   "source": [
    "## Declare an Array or matrix"
   ]
  },
  {
   "cell_type": "code",
   "execution_count": 5,
   "id": "06b2e301-d613-48d8-a376-254a248f47b9",
   "metadata": {},
   "outputs": [],
   "source": [
    "import numpy as np"
   ]
  },
  {
   "cell_type": "code",
   "execution_count": 6,
   "id": "1d153119-3190-4aa0-8785-4baf344285bc",
   "metadata": {},
   "outputs": [
    {
     "name": "stdout",
     "output_type": "stream",
     "text": [
      "[1 2 3]\n"
     ]
    }
   ],
   "source": [
    "a = np.array([1,2,3])\n",
    "print(a)"
   ]
  },
  {
   "cell_type": "code",
   "execution_count": 20,
   "id": "c1a04e16-4f9a-469e-91ff-5a0f3c6686d4",
   "metadata": {},
   "outputs": [
    {
     "name": "stdout",
     "output_type": "stream",
     "text": [
      "[[1 2 5]\n",
      " [6 5 4]\n",
      " [3 7 1]]\n"
     ]
    }
   ],
   "source": [
    "b = np.array([[1.0,2.0,5.0],[6.0,5.0,4.0],[3.0,7.0,1.0]], dtype='int16')\n",
    "print(b)"
   ]
  },
  {
   "cell_type": "markdown",
   "id": "450cce55-9106-4adb-95a5-6876a385826e",
   "metadata": {},
   "source": [
    "## Get Dimensions"
   ]
  },
  {
   "cell_type": "code",
   "execution_count": 21,
   "id": "1cb0b9ac-1025-4457-990f-d45780177186",
   "metadata": {},
   "outputs": [
    {
     "name": "stdout",
     "output_type": "stream",
     "text": [
      "Dimension of a :  1\n",
      "Dimension of b :  2\n"
     ]
    }
   ],
   "source": [
    "#get Dimensions\n",
    "\n",
    "\n",
    "print(\"Dimension of a : \", a.ndim)\n",
    "print(\"Dimension of b : \", b.ndim)"
   ]
  },
  {
   "cell_type": "markdown",
   "id": "367bbedc-36b4-44e9-b8be-b944f5ee1c76",
   "metadata": {},
   "source": [
    "## Get Shape - number of Columns and Rows of the matrix."
   ]
  },
  {
   "cell_type": "code",
   "execution_count": 22,
   "id": "9f992e6e-032d-4082-815b-6ba4026dec40",
   "metadata": {},
   "outputs": [
    {
     "name": "stdout",
     "output_type": "stream",
     "text": [
      "Matrix a =  [1 2 3]\n",
      "Shape of matrix a :  (3,)\n",
      "As there are 3 columns in matrix 'a'\n",
      "Matrix b =  [[1 2 5]\n",
      " [6 5 4]\n",
      " [3 7 1]]\n",
      "Shape of matrix b :  (3, 3)\n",
      "As there are 3 columns and 3 rows in Matrix 'b'\n"
     ]
    }
   ],
   "source": [
    "# get Shapes of the matrix\n",
    "print(\"Matrix a = \", a)\n",
    "print(\"Shape of matrix a : \", a.shape)\n",
    "print(\"As there are\", a.shape[0], \"columns in matrix 'a'\")\n",
    "print(\"Matrix b = \", b)\n",
    "print(\"Shape of matrix b : \", b.shape)\n",
    "print(\"As there are\", b.shape[0], \"columns and\", b.shape[1], \"rows in Matrix 'b'\")"
   ]
  },
  {
   "cell_type": "code",
   "execution_count": 23,
   "id": "426d89b1-f696-4a2c-8af3-45d53d4910b0",
   "metadata": {},
   "outputs": [
    {
     "name": "stdout",
     "output_type": "stream",
     "text": [
      "Matrix c =  [[1. 2. 5.]\n",
      " [6. 5. 4.]]\n",
      "Shape of matrix c :  (2, 3)\n",
      "As there are 2 columns and 3 rows in Matrix 'b'\n"
     ]
    }
   ],
   "source": [
    "c = np.array([[1.0,2.0,5.0],[6.0,5.0,4.0]])\n",
    "print(\"Matrix c = \", c)\n",
    "print(\"Shape of matrix c : \", c.shape)\n",
    "print(\"As there are\", c.shape[0], \"columns and\", c.shape[1], \"rows in Matrix 'b'\")"
   ]
  },
  {
   "cell_type": "markdown",
   "id": "baa5125f-c47e-4ad5-b3ea-a26e46903994",
   "metadata": {},
   "source": [
    "## Get Datatype and assign data type"
   ]
  },
  {
   "cell_type": "code",
   "execution_count": 30,
   "id": "b418a4a6-7c3d-4b6c-bea5-cfbaa316b5ab",
   "metadata": {},
   "outputs": [
    {
     "name": "stdout",
     "output_type": "stream",
     "text": [
      "Data type of 'a':  int32\n",
      "Data type of 'b':  int16\n",
      "Data type of 'c':  float64\n"
     ]
    }
   ],
   "source": [
    "#get the data Type\n",
    "\n",
    "print(\"Data type of 'a': \", a.dtype)\n",
    "print(\"Data type of 'b': \", b.dtype)\n",
    "print(\"Data type of 'c': \", c.dtype)"
   ]
  },
  {
   "cell_type": "code",
   "execution_count": 31,
   "id": "be6651f6-e285-440b-8e45-4149e61728d7",
   "metadata": {},
   "outputs": [
    {
     "name": "stdout",
     "output_type": "stream",
     "text": [
      "Matrix d =  [[1 2 5]\n",
      " [6 5 4]]\n",
      "Data type of matrix d :  int32\n"
     ]
    }
   ],
   "source": [
    "#assign Data Type at the time of declating the matrix\n",
    "\n",
    "d = np.array([[1.0,2.0,5.0],[6.0,5.0,4.0]], dtype='int32')\n",
    "print(\"Matrix d = \", d)\n",
    "print(\"Data type of matrix d : \", d.dtype)"
   ]
  },
  {
   "cell_type": "markdown",
   "id": "8e391012-85a7-4178-b8d8-409096441a12",
   "metadata": {},
   "source": [
    "## Get the item Size of each item in the Matrix"
   ]
  },
  {
   "cell_type": "code",
   "execution_count": 29,
   "id": "9093beb7-ba8d-4972-a2c7-0f73228e9522",
   "metadata": {},
   "outputs": [
    {
     "name": "stdout",
     "output_type": "stream",
     "text": [
      "Matrix e =  [[1 2 5]\n",
      " [6 5 4]]\n",
      "Data type of matrix e :  int16\n",
      "Item Size of matrix e :  2 bytes.\n",
      "Matrix d = \n",
      "Data type of matrix d :  int32\n",
      "Item Size of matrix d :  4 bytes\n",
      "Notice the Integer type as int16 for matrix 'e', whereas, even though matrix 'e' and 'd' has the same content the item size for the two matrix are different\n"
     ]
    }
   ],
   "source": [
    "# Get the item Size of each item in the Matrix\n",
    "\n",
    "# assign Data Type at the time of declating the matrix\n",
    "\n",
    "e = np.array([[1.0,2.0,5.0],[6.0,5.0,4.0]], dtype='int16')\n",
    "print(\"Matrix e = \", e)\n",
    "print(\"Data type of matrix e : \", e.dtype)\n",
    "print(\"Item Size of matrix e : \", e.itemsize, \"bytes.\")\n",
    "\n",
    "print(\"Matrix d = \", )\n",
    "print(\"Data type of matrix d : \", d.dtype)\n",
    "print(\"Item Size of matrix d : \", d.itemsize, \"bytes\")\n",
    "\n",
    "print(\"Notice the Integer type as int16 for matrix 'e', whereas, even though matrix 'e' and 'd' has the same content the item size for the two matrix are different\")\n"
   ]
  },
  {
   "cell_type": "markdown",
   "id": "1a8d44dd-18be-446d-a14b-1e461e2fbaae",
   "metadata": {},
   "source": [
    "## Get the total Size of the Matrix also __nbytes__ function."
   ]
  },
  {
   "cell_type": "code",
   "execution_count": 34,
   "id": "a4a2bae7-82e3-4751-a1e9-7e41a31bb188",
   "metadata": {},
   "outputs": [
    {
     "name": "stdout",
     "output_type": "stream",
     "text": [
      "Matrix f =  [[1 2 5]\n",
      " [6 5 4]]\n",
      "'Size' or total number of elements of matrix 'f' :  6\n",
      "Item Size of matrix d :  4 bytes\n",
      "total size by the formula, i.e.,\n",
      "(total number of elements also called 'size') * (size of each item in bytes, called ItemSize)\n",
      "total size =  24 bytes\n",
      "'nbytes' function also provides the same value as shown below:\n",
      "24 bytes\n"
     ]
    }
   ],
   "source": [
    "# get Total size\n",
    "\n",
    "f = np.array([[1,2,3],[4,5,6]])\n",
    "\n",
    "print(\"Matrix f = \", e)\n",
    "\n",
    "f_size = f.size\n",
    "print(\"'Size' or total number of elements of matrix 'f' : \", f_size)\n",
    "\n",
    "f_item_size = f.itemsize\n",
    "print(\"Item Size of matrix d : \", f_item_size, \"bytes\")\n",
    "\n",
    "print(\"total size by the formula, i.e.,\" \"\\n\" \"(total number of elements also called 'size') * (size of each item in bytes, called ItemSize)\")\n",
    "\n",
    "total_size_f = f_size*f_item_size\n",
    "\n",
    "print(\"total size = \", total_size_f, \"bytes\")\n",
    "\n",
    "print(\"'nbytes' function also provides the same value as shown below:\")\n",
    "f_nbytes = f.nbytes\n",
    "print(f_nbytes, \"bytes\")\n",
    "\n",
    "\n",
    "\n",
    "\n",
    "      "
   ]
  },
  {
   "cell_type": "code",
   "execution_count": 33,
   "id": "7d4ed4b2-8a06-4473-9a9e-42b9992693a4",
   "metadata": {},
   "outputs": [
    {
     "name": "stdout",
     "output_type": "stream",
     "text": [
      "Using formula\n",
      "matrix a =  [1 2 3]\n",
      "Data type of matrix a :  int32\n",
      "Total size of 'a' : 12 bytes\n",
      "\n",
      "Using function nbytes\n",
      "matrix b =  [[1 2 5]\n",
      " [6 5 4]\n",
      " [3 7 1]]\n",
      "Data type of matrix b :  int16\n",
      "Total size of 'b' : 18 bytes\n"
     ]
    }
   ],
   "source": [
    "# Lets get the total size of Matrix 'a' and 'b\" declared earlier with int and float datatypes\n",
    "\n",
    "print(\"Using formula\")\n",
    "print(\"matrix a = \",a)\n",
    "a_size = a.size\n",
    "print(\"Data type of matrix a : \", a.dtype)\n",
    "a_itemsize = a.itemsize\n",
    "a_totalsize = a_size * a_itemsize\n",
    "print (\"Total size of 'a' :\", a_totalsize, \"bytes\")\n",
    "print()\n",
    "\n",
    "print(\"Using function nbytes\")\n",
    "print(\"matrix b = \",b)\n",
    "b_size = b.size\n",
    "print(\"Data type of matrix b : \", b.dtype)\n",
    "b_itemsize = b.itemsize\n",
    "b_totalsize = b.nbytes\n",
    "print (\"Total size of 'b' :\", b_totalsize, \"bytes\")\n"
   ]
  },
  {
   "cell_type": "code",
   "execution_count": null,
   "id": "c52f8f71-3b83-49af-a4c4-3d3f5a1051d8",
   "metadata": {},
   "outputs": [],
   "source": []
  }
 ],
 "metadata": {
  "kernelspec": {
   "display_name": "Python 3 (ipykernel)",
   "language": "python",
   "name": "python3"
  },
  "language_info": {
   "codemirror_mode": {
    "name": "ipython",
    "version": 3
   },
   "file_extension": ".py",
   "mimetype": "text/x-python",
   "name": "python",
   "nbconvert_exporter": "python",
   "pygments_lexer": "ipython3",
   "version": "3.12.1"
  }
 },
 "nbformat": 4,
 "nbformat_minor": 5
}
