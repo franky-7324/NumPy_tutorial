{
 "cells": [
  {
   "cell_type": "markdown",
   "id": "0cc4a02e-687b-41a2-aa86-8253e81386c7",
   "metadata": {},
   "source": [
    "# Initializing different types of Arrays"
   ]
  },
  {
   "cell_type": "code",
   "execution_count": 2,
   "id": "028d1f2c-0756-4cb8-b74c-bea844b01341",
   "metadata": {},
   "outputs": [],
   "source": [
    "import numpy as np"
   ]
  },
  {
   "cell_type": "markdown",
   "id": "fd9c4b86-89fe-4e04-82c6-b5cf416b0717",
   "metadata": {},
   "source": [
    "## Initialize all zero matrix"
   ]
  },
  {
   "cell_type": "code",
   "execution_count": 3,
   "id": "d3015611-41ea-4552-936e-1d8d25b54dd1",
   "metadata": {},
   "outputs": [
    {
     "name": "stdout",
     "output_type": "stream",
     "text": [
      "[0. 0. 0. 0.]\n"
     ]
    }
   ],
   "source": [
    "c = np.zeros(4)\n",
    "print(c)"
   ]
  },
  {
   "cell_type": "code",
   "execution_count": 5,
   "id": "abe34810-3851-4432-85d1-11a8786c95a3",
   "metadata": {},
   "outputs": [
    {
     "name": "stdout",
     "output_type": "stream",
     "text": [
      "[[0. 0.]\n",
      " [0. 0.]\n",
      " [0. 0.]]\n"
     ]
    }
   ],
   "source": [
    "c = np.zeros((3,2))\n",
    "print(c)"
   ]
  },
  {
   "cell_type": "code",
   "execution_count": 9,
   "id": "42a4801e-65a2-4386-a9d4-9e851bfda7af",
   "metadata": {},
   "outputs": [
    {
     "name": "stdout",
     "output_type": "stream",
     "text": [
      "[[[0. 0. 0.]\n",
      "  [0. 0. 0.]]\n",
      "\n",
      " [[0. 0. 0.]\n",
      "  [0. 0. 0.]]\n",
      "\n",
      " [[0. 0. 0.]\n",
      "  [0. 0. 0.]]]\n"
     ]
    }
   ],
   "source": [
    "c = np.zeros((3,2,3))\n",
    "print(c)"
   ]
  },
  {
   "cell_type": "markdown",
   "id": "9e6ca75b-864b-44ac-bea9-fb36ce968c8f",
   "metadata": {},
   "source": [
    "## Initialize all ones matrix"
   ]
  },
  {
   "cell_type": "code",
   "execution_count": 11,
   "id": "826a1499-83bb-4c1d-a76e-31d7976dd9cc",
   "metadata": {},
   "outputs": [
    {
     "name": "stdout",
     "output_type": "stream",
     "text": [
      "[[1 1]]\n"
     ]
    }
   ],
   "source": [
    "d = np.ones((1,2), dtype = 'int16')\n",
    "print(d)"
   ]
  },
  {
   "cell_type": "markdown",
   "id": "ee845b6b-f4c4-45a3-b8c6-468708152c54",
   "metadata": {},
   "source": [
    "## Initialize any other value to each element of a matrix"
   ]
  },
  {
   "cell_type": "code",
   "execution_count": 13,
   "id": "363833af-3e1a-4063-a484-0da2e30f2ad0",
   "metadata": {},
   "outputs": [
    {
     "name": "stdout",
     "output_type": "stream",
     "text": [
      "[[33 33]\n",
      " [33 33]]\n"
     ]
    }
   ],
   "source": [
    "e = np.full((2,2), 33, dtype = 'int16')\n",
    "print(e)"
   ]
  },
  {
   "cell_type": "markdown",
   "id": "4e6adb65-053c-43a6-9380-52b0206e2edf",
   "metadata": {},
   "source": [
    "## Initialize like another matrix using __full_like__"
   ]
  },
  {
   "cell_type": "code",
   "execution_count": 15,
   "id": "a6ec73d8-a9c8-447f-8aa6-ccae19dbc0e0",
   "metadata": {},
   "outputs": [
    {
     "name": "stdout",
     "output_type": "stream",
     "text": [
      "[[[22. 22. 22.]\n",
      "  [22. 22. 22.]]\n",
      "\n",
      " [[22. 22. 22.]\n",
      "  [22. 22. 22.]]\n",
      "\n",
      " [[22. 22. 22.]\n",
      "  [22. 22. 22.]]]\n"
     ]
    }
   ],
   "source": [
    "f = np.full_like(c,22)\n",
    "print(f)"
   ]
  },
  {
   "cell_type": "markdown",
   "id": "529ca4aa-695d-4cf7-b8a0-3398e69c1646",
   "metadata": {},
   "source": [
    "## Intialize a matrix with Random Numbers"
   ]
  },
  {
   "cell_type": "code",
   "execution_count": 23,
   "id": "7ee4aee3-167f-49c9-8373-50c72bb84c7b",
   "metadata": {},
   "outputs": [
    {
     "name": "stdout",
     "output_type": "stream",
     "text": [
      "[[0.09112248 0.02663789]\n",
      " [0.51186089 0.68977019]\n",
      " [0.09882131 0.2606059 ]\n",
      " [0.64328337 0.13323574]]\n"
     ]
    }
   ],
   "source": [
    "# The below random function gives the output with elements as floats.\n",
    "g = np.random.rand(4,2)\n",
    "print(g)"
   ]
  },
  {
   "cell_type": "code",
   "execution_count": 24,
   "id": "c58f1de7-9e3d-4f2a-91eb-1be9a852f9ee",
   "metadata": {},
   "outputs": [
    {
     "name": "stdout",
     "output_type": "stream",
     "text": [
      "[[0.88293013 0.55598434]\n",
      " [0.70554477 0.30776301]\n",
      " [0.15064128 0.87273265]\n",
      " [0.30853244 0.55959446]]\n"
     ]
    }
   ],
   "source": [
    "#Creating random matrix with sample shape of another matrix 'g'.\n",
    "\n",
    "f = np.random.random_sample(g.shape)\n",
    "print(f)"
   ]
  },
  {
   "cell_type": "code",
   "execution_count": 33,
   "id": "8ec8ad26-5385-4081-924d-5a742b03c5fb",
   "metadata": {},
   "outputs": [
    {
     "name": "stdout",
     "output_type": "stream",
     "text": [
      "[[15 18 17]\n",
      " [ 5 11  4]\n",
      " [19 -5  2]]\n"
     ]
    }
   ],
   "source": [
    "# RANDOM.RANDINT() function here is taking 2 values as parameters\n",
    "# '-5' as the start limit of the random value\n",
    "# '20' as th outer limit of the random value\n",
    "# 'size\" as the shape of the matrix desired.\n",
    "\n",
    "random_int_matrix = np.random.randint(-5,20, size=(3,3))\n",
    "print(random_int_matrix)"
   ]
  },
  {
   "cell_type": "markdown",
   "id": "ddded351-60fa-44b8-b306-d5a3ad584702",
   "metadata": {},
   "source": [
    "## Identity Matrix"
   ]
  },
  {
   "cell_type": "code",
   "execution_count": 34,
   "id": "5455dd5e-4901-4010-a5c9-7a77960d06df",
   "metadata": {},
   "outputs": [
    {
     "name": "stdout",
     "output_type": "stream",
     "text": [
      "[[1. 0. 0. 0. 0.]\n",
      " [0. 1. 0. 0. 0.]\n",
      " [0. 0. 1. 0. 0.]\n",
      " [0. 0. 0. 1. 0.]\n",
      " [0. 0. 0. 0. 1.]]\n"
     ]
    }
   ],
   "source": [
    "identity_matrix = np.identity(5)\n",
    "print(identity_matrix) "
   ]
  },
  {
   "cell_type": "markdown",
   "id": "923484b7-95e8-412a-937d-ed2437554e95",
   "metadata": {},
   "source": [
    "## Repeat the array"
   ]
  },
  {
   "cell_type": "code",
   "execution_count": 42,
   "id": "2ed5800b-89d6-4d51-9c05-cc567b9fadb6",
   "metadata": {},
   "outputs": [
    {
     "name": "stdout",
     "output_type": "stream",
     "text": [
      "with Axis as 0: \n",
      "[[1 2 3]\n",
      " [1 2 3]\n",
      " [1 2 3]]\n",
      "\n",
      "with Axis as 1: \n",
      "[[1 1 1 2 2 2 3 3 3]]\n"
     ]
    }
   ],
   "source": [
    "orig_array = np.array([[1,2,3]])\n",
    "repeated_array = np.repeat(orig_array, 3, axis=0)\n",
    "print(\"with Axis as 0: \")\n",
    "print(repeated_array)\n",
    "print()\n",
    "\n",
    "repeated_array = np.repeat(orig_array, 3, axis=1)\n",
    "print(\"with Axis as 1: \")\n",
    "print(repeated_array)"
   ]
  },
  {
   "cell_type": "markdown",
   "id": "1db2bc82-ef79-4504-b964-501daab727e9",
   "metadata": {},
   "source": [
    "# Test Task\n",
    "## Try to make the following matrix\n",
    "\n",
    "- 1 1 1 1 1 \n",
    "- 1 0 0 0 1\n",
    "- 1 0 9 0 1\n",
    "- 1 0 0 0 1\n",
    "- 1 1 1 1 1\n",
    "\n",
    "### Using all the functions used above.\n"
   ]
  },
  {
   "cell_type": "markdown",
   "id": "20657747-7d54-4706-8654-009890d7ee44",
   "metadata": {},
   "source": [
    "## Solution 01"
   ]
  },
  {
   "cell_type": "code",
   "execution_count": 49,
   "id": "0d086f16-d201-4b44-8c52-2d97b5b5c884",
   "metadata": {},
   "outputs": [
    {
     "name": "stdout",
     "output_type": "stream",
     "text": [
      "[[1 1 1 1 1]\n",
      " [1 1 1 1 1]\n",
      " [1 1 1 1 1]\n",
      " [1 1 1 1 1]\n",
      " [1 1 1 1 1]]\n"
     ]
    }
   ],
   "source": [
    "a=np.full((5,5), 1)\n",
    "print(a)"
   ]
  },
  {
   "cell_type": "code",
   "execution_count": 63,
   "id": "473a1dcd-2d89-416c-a5ea-d7b71817737e",
   "metadata": {},
   "outputs": [
    {
     "name": "stdout",
     "output_type": "stream",
     "text": [
      "[[1. 1. 1. 1. 1.]\n",
      " [1. 0. 0. 0. 1.]\n",
      " [1. 0. 0. 0. 1.]\n",
      " [1. 0. 0. 0. 1.]\n",
      " [1. 1. 1. 1. 1.]]\n"
     ]
    }
   ],
   "source": [
    "a[1:-1,1:-1] = 0\n",
    "print(a)"
   ]
  },
  {
   "cell_type": "code",
   "execution_count": 64,
   "id": "b9091ffd-4e4a-42c2-9f90-0583bfd21781",
   "metadata": {},
   "outputs": [
    {
     "name": "stdout",
     "output_type": "stream",
     "text": [
      "[[1. 1. 1. 1. 1.]\n",
      " [1. 0. 0. 0. 1.]\n",
      " [1. 0. 9. 0. 1.]\n",
      " [1. 0. 0. 0. 1.]\n",
      " [1. 1. 1. 1. 1.]]\n"
     ]
    }
   ],
   "source": [
    "a[2,2] = 9\n",
    "print(a)"
   ]
  },
  {
   "cell_type": "markdown",
   "id": "d0f80edc-bd50-4884-99d0-740980419d40",
   "metadata": {},
   "source": [
    "## Solution 02"
   ]
  },
  {
   "cell_type": "code",
   "execution_count": 66,
   "id": "386a46bc-9518-4e84-bf85-70b9c360941a",
   "metadata": {},
   "outputs": [
    {
     "name": "stdout",
     "output_type": "stream",
     "text": [
      "[[1. 1. 1. 1. 1.]\n",
      " [1. 1. 1. 1. 1.]\n",
      " [1. 1. 1. 1. 1.]\n",
      " [1. 1. 1. 1. 1.]\n",
      " [1. 1. 1. 1. 1.]]\n",
      "[[0. 0. 0.]\n",
      " [0. 9. 0.]\n",
      " [0. 0. 0.]]\n",
      "[[1. 1. 1. 1. 1.]\n",
      " [1. 0. 0. 0. 1.]\n",
      " [1. 0. 9. 0. 1.]\n",
      " [1. 0. 0. 0. 1.]\n",
      " [1. 1. 1. 1. 1.]]\n"
     ]
    }
   ],
   "source": [
    "a = np.ones((5,5))\n",
    "print(a)\n",
    "\n",
    "z = np.zeros((3,3))\n",
    "z[1,1] = 9\n",
    "print(z)\n",
    "\n",
    "a[1:-1,1:-1] = z\n",
    "print(a)"
   ]
  },
  {
   "cell_type": "markdown",
   "id": "80ed5fc9-6df7-4e33-b056-e4eb43a4fb23",
   "metadata": {},
   "source": [
    "## Copying an array\n",
    "### Using __copy__ function"
   ]
  },
  {
   "cell_type": "code",
   "execution_count": 73,
   "id": "90b0c2ac-7300-461b-ace9-b4d71948c976",
   "metadata": {},
   "outputs": [
    {
     "name": "stdout",
     "output_type": "stream",
     "text": [
      "[1 2 3]\n",
      "\n",
      "[1 2 3]\n",
      "\n",
      "[  1 100   3]\n",
      "\n",
      "A is also changed to :\n",
      "[  1 100   3]\n",
      "\n",
      "Therefore, do not use 'equals to' to make copies of matrix. Instead use copy function as shown below\n"
     ]
    }
   ],
   "source": [
    "## Wrong way to copy matrix\n",
    "\n",
    "a=np.array([1,2,3])\n",
    "print(a)\n",
    "\n",
    "b = a\n",
    "print()\n",
    "print(b)\n",
    "\n",
    "b[1] = 100\n",
    "print()\n",
    "print(b)\n",
    "\n",
    "print()\n",
    "print(\"A is also changed to :\")\n",
    "print(a)\n",
    "print()\n",
    "\n",
    "print(\"Therefore, do not use 'equals to' to make copies of matrix. Instead use copy function as shown below\")\n",
    "\n"
   ]
  },
  {
   "cell_type": "code",
   "execution_count": 75,
   "id": "9b7e0290-66d2-445f-b979-449505419b20",
   "metadata": {},
   "outputs": [
    {
     "name": "stdout",
     "output_type": "stream",
     "text": [
      "[1 2 3]\n",
      "\n",
      "[1 2 3]\n",
      "\n",
      "[  1 100   3]\n",
      "\n",
      "A is not changed to :\n",
      "[1 2 3]\n",
      "\n"
     ]
    }
   ],
   "source": [
    "a=np.array([1,2,3])\n",
    "print(a)\n",
    "\n",
    "# Copy function, copies the contents of one matrix to another.\n",
    "b = a.copy()\n",
    "print()\n",
    "print(b)\n",
    "\n",
    "b[1] = 100\n",
    "print()\n",
    "print(b)\n",
    "\n",
    "print()\n",
    "print(\"A is not changed to :\")\n",
    "print(a)\n",
    "print()"
   ]
  },
  {
   "cell_type": "code",
   "execution_count": null,
   "id": "e31c2aa9-af4b-4086-a644-d2ce21cd17ee",
   "metadata": {},
   "outputs": [],
   "source": []
  }
 ],
 "metadata": {
  "kernelspec": {
   "display_name": "Python 3 (ipykernel)",
   "language": "python",
   "name": "python3"
  },
  "language_info": {
   "codemirror_mode": {
    "name": "ipython",
    "version": 3
   },
   "file_extension": ".py",
   "mimetype": "text/x-python",
   "name": "python",
   "nbconvert_exporter": "python",
   "pygments_lexer": "ipython3",
   "version": "3.12.1"
  }
 },
 "nbformat": 4,
 "nbformat_minor": 5
}
