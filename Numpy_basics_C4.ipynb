{
 "cells": [
  {
   "cell_type": "markdown",
   "id": "d70d80a9-93cb-4881-b4e9-c4774d454f94",
   "metadata": {},
   "source": [
    "# Mathematics"
   ]
  },
  {
   "cell_type": "code",
   "execution_count": 2,
   "id": "2a7aba12-cdc9-4927-b018-2059159b2969",
   "metadata": {},
   "outputs": [],
   "source": [
    "import numpy as np"
   ]
  },
  {
   "cell_type": "code",
   "execution_count": 14,
   "id": "1e7ee155-eb3a-4eb4-80ae-ddd23e27e031",
   "metadata": {},
   "outputs": [
    {
     "name": "stdout",
     "output_type": "stream",
     "text": [
      "Matrix 'a':\n",
      "[1 2 3 4]\n",
      "\n",
      "Adding 2 to matrix 'a':\n",
      "[3 4 5 6]\n",
      "\n",
      "Subtracting 2 to matrix 'a':\n",
      "[-1  0  1  2]\n",
      "\n",
      "Multiplying 2 to matrix 'a':\n",
      "[2 4 6 8]\n",
      "\n",
      "Dividing 2 to matrix 'a':\n",
      "[0.5 1.  1.5 2. ]\n",
      "\n",
      "Squared matrix 'a':\n",
      "[ 1  4  9 16]\n"
     ]
    }
   ],
   "source": [
    "a = np.array([1,2,3,4])\n",
    "print(\"Matrix 'a':\")\n",
    "print(a)\n",
    "print()\n",
    "\n",
    "print(\"Adding 2 to matrix 'a':\")\n",
    "print(a+2)\n",
    "print()\n",
    "\n",
    "print(\"Subtracting 2 to matrix 'a':\")\n",
    "print(a-2)\n",
    "print()\n",
    "\n",
    "print(\"Multiplying 2 to matrix 'a':\")\n",
    "print(a*2)\n",
    "print()\n",
    "\n",
    "print(\"Dividing 2 to matrix 'a':\")\n",
    "print(a/2)\n",
    "print()\n",
    "\n",
    "print(\"Squared matrix 'a':\")\n",
    "print(a**2)\n"
   ]
  },
  {
   "cell_type": "markdown",
   "id": "b34d9aef-842d-4348-b72d-433eb3736105",
   "metadata": {},
   "source": [
    "## Adding multiple matrices"
   ]
  },
  {
   "cell_type": "code",
   "execution_count": 17,
   "id": "6dcb882a-94b0-41c1-9e2c-bed40dca1baf",
   "metadata": {},
   "outputs": [
    {
     "name": "stdout",
     "output_type": "stream",
     "text": [
      "Matrix 'a':\n",
      "[1 2 3 4]\n",
      "\n",
      "Matrix 'b':\n",
      "[4 3 2 1]\n",
      "\n",
      "Matrix 'c = a + b':\n",
      "[5 5 5 5]\n",
      "\n"
     ]
    }
   ],
   "source": [
    "a = np.array([1,2,3,4])\n",
    "print(\"Matrix 'a':\")\n",
    "print(a)\n",
    "print()\n",
    "\n",
    "b = np.array([4,3,2,1])\n",
    "print(\"Matrix 'b':\")\n",
    "print(b)\n",
    "print()\n",
    "\n",
    "c = a + b\n",
    "print(\"Matrix 'c = a + b':\")\n",
    "print(c)\n",
    "print()"
   ]
  },
  {
   "cell_type": "markdown",
   "id": "f9183809-3263-4abe-ba4c-33e397725b1f",
   "metadata": {},
   "source": [
    "## Sin, Cos, etc"
   ]
  },
  {
   "cell_type": "code",
   "execution_count": 26,
   "id": "0fdc35a9-85cc-4760-b9d9-a5e57aae1336",
   "metadata": {},
   "outputs": [
    {
     "name": "stdout",
     "output_type": "stream",
     "text": [
      "Matrix 'a':\n",
      "[ 45  90 135 180]\n",
      "\n",
      "Sin of Matrix 'a':\n",
      "[ 0.85090352  0.89399666  0.08836869 -0.80115264]\n",
      "\n",
      "Cosine of Matrix 'a':\n",
      "[ 0.52532199 -0.44807362 -0.99608784 -0.59846007]\n",
      "\n"
     ]
    }
   ],
   "source": [
    "a = np.array([45,90,135,180])\n",
    "print(\"Matrix 'a':\")\n",
    "print(a)\n",
    "print()\n",
    "\n",
    "print(\"Sin of Matrix 'a':\")\n",
    "sin = np.sin(a)\n",
    "print(sin)\n",
    "print()\n",
    "\n",
    "print(\"Cosine of Matrix 'a':\")\n",
    "sin = np.cos(a)\n",
    "print(sin)\n",
    "print()\n"
   ]
  },
  {
   "cell_type": "markdown",
   "id": "3644ac10-9507-40ef-8673-cf0aa96783ea",
   "metadata": {},
   "source": [
    "# Linear Algebra"
   ]
  },
  {
   "cell_type": "code",
   "execution_count": 29,
   "id": "6223dea2-586e-4090-bf03-f830406b3918",
   "metadata": {},
   "outputs": [
    {
     "name": "stdout",
     "output_type": "stream",
     "text": [
      "Matrix a :\n",
      "[[1. 1. 1.]\n",
      " [1. 1. 1.]]\n",
      "Matrix b :\n",
      "[[2 2]\n",
      " [2 2]\n",
      " [2 2]]\n",
      "Matrix multiplication of a and b:\n",
      "[[6. 6.]\n",
      " [6. 6.]]\n"
     ]
    }
   ],
   "source": [
    "a = np.ones((2,3))\n",
    "print(\"Matrix a :\")\n",
    "print(a)\n",
    "\n",
    "b = np.full((3,2),2)\n",
    "print(\"Matrix b :\")\n",
    "print(b)\n",
    "\n",
    "# a*b will not work, because the soze of the matrices is not the same.\n",
    "# Use 'matmul\" function of numpy\n",
    "\n",
    "c = np.matmul(a,b)\n",
    "print(\"Matrix multiplication of a and b:\")\n",
    "print(c)\n"
   ]
  },
  {
   "cell_type": "markdown",
   "id": "b0b8e025-cbcd-403d-9665-f9fe17b547ef",
   "metadata": {},
   "source": [
    "## Find the determinant of an identity matrix"
   ]
  },
  {
   "cell_type": "code",
   "execution_count": 36,
   "id": "935187d5-4088-41f2-960e-59aa6c0dd6b8",
   "metadata": {},
   "outputs": [
    {
     "name": "stdout",
     "output_type": "stream",
     "text": [
      "Matrix c :\n",
      "[[1. 0. 0.]\n",
      " [0. 1. 0.]\n",
      " [0. 0. 1.]]\n",
      "\n",
      " Determinant of the Matrix 'c':\n",
      "1.0\n",
      "\n",
      "Matrix d :\n",
      "[[1 2 3]\n",
      " [4 5 6]\n",
      " [7 8 9]]\n",
      "\n",
      " Determinant of the Matrix 'd':\n",
      "0.0\n"
     ]
    }
   ],
   "source": [
    "c = np.identity(3)\n",
    "print(\"Matrix c :\")\n",
    "print(c)\n",
    "print()\n",
    "\n",
    "determinant=np.linalg.det(c)\n",
    "print(\" Determinant of the Matrix 'c':\")\n",
    "print(determinant)\n",
    "print()\n",
    "\n",
    "d = np.array([[1,2,3],[4,5,6],[7,8,9]])\n",
    "print(\"Matrix d :\")\n",
    "print(d)\n",
    "print()\n",
    "det_d = np.linalg.det(d)\n",
    "print(\" Determinant of the Matrix 'd':\")\n",
    "print(det_d)"
   ]
  },
  {
   "cell_type": "markdown",
   "id": "da736ff8-7b17-44e1-9d2d-e53051ec4a41",
   "metadata": {},
   "source": [
    "## Normalization of a Matrix"
   ]
  },
  {
   "cell_type": "code",
   "execution_count": 42,
   "id": "c2a5b7e7-34ff-4036-adc5-3397f540c643",
   "metadata": {},
   "outputs": [
    {
     "name": "stdout",
     "output_type": "stream",
     "text": [
      "Matrix d :\n",
      "[[1 2 3]\n",
      " [4 5 6]\n",
      " [7 8 9]]\n",
      "\n",
      " Normalization of the Matrix 'd':\n",
      "[ 3.74165739  8.77496439 13.92838828]\n"
     ]
    }
   ],
   "source": [
    "print(\"Matrix d :\")\n",
    "print(d)\n",
    "print()\n",
    "\n",
    "norm_d = np.linalg.norm(d, axis=1)\n",
    "print(\" Normalization of the Matrix 'd':\")\n",
    "print(norm_d)"
   ]
  },
  {
   "cell_type": "markdown",
   "id": "88f9597b-c1c7-4946-914f-6f9d030d6d8f",
   "metadata": {},
   "source": [
    "## Statistics"
   ]
  },
  {
   "cell_type": "code",
   "execution_count": 50,
   "id": "ac6d1bc9-c298-4858-9ceb-55aff6aad36d",
   "metadata": {},
   "outputs": [
    {
     "name": "stdout",
     "output_type": "stream",
     "text": [
      "array :\n",
      "[[1 2 3]\n",
      " [4 5 6]\n",
      " [7 8 9]]\n",
      "Min of array: 1\n",
      "Max of array: 9\n",
      "Sum of array(axis = 0) i.e. sum of all matrix: [12 15 18]\n",
      "Sum of array(axis = 1) i.e. sum inside each matrix: [ 6 15 24]\n"
     ]
    }
   ],
   "source": [
    "arr = np.array([[1,2,3],[4,5,6],[7,8,9]])\n",
    "print(\"array :\")\n",
    "print(arr)\n",
    "\n",
    "print(\"Min of array:\", np.min(arr))\n",
    "print(\"Max of array:\", np.max(arr))\n",
    "print(\"Sum of array(axis = 0) i.e. sum of all matrix:\", np.sum(arr, axis=0))\n",
    "print(\"Sum of array(axis = 1) i.e. sum inside each matrix:\", np.sum(arr, axis=1))"
   ]
  },
  {
   "cell_type": "markdown",
   "id": "94354b5c-5b5f-47fd-adc8-9edaf3b433a7",
   "metadata": {},
   "source": [
    "## Reorganizing arrays"
   ]
  },
  {
   "cell_type": "code",
   "execution_count": 62,
   "id": "64b52a9b-8128-42de-b1a4-d21b3dec4bea",
   "metadata": {},
   "outputs": [
    {
     "name": "stdout",
     "output_type": "stream",
     "text": [
      "array 1 :\n",
      "[[1 2 3 4]\n",
      " [5 6 7 8]]\n",
      "\n",
      "Shape of array 1 :\n",
      "(2, 4)\n",
      "\n",
      "array 1 reshaped to 4 by 2 matrix:\n",
      "[[1 2]\n",
      " [3 4]\n",
      " [5 6]\n",
      " [7 8]]\n",
      "\n",
      "array 1 reshaped to 2x2x2 matrix:\n",
      "[[[1 2]\n",
      "  [3 4]]\n",
      "\n",
      " [[5 6]\n",
      "  [7 8]]]\n",
      "\n",
      "array 1 reshaped to 8 by 1 matrix:\n",
      "[[1]\n",
      " [2]\n",
      " [3]\n",
      " [4]\n",
      " [5]\n",
      " [6]\n",
      " [7]\n",
      " [8]]\n"
     ]
    }
   ],
   "source": [
    "array1 = np.array([[1,2,3,4],[5,6,7,8]])\n",
    "print(\"array 1 :\")\n",
    "print(array1)\n",
    "print()\n",
    "print(\"Shape of array 1 :\")\n",
    "print(array1.shape)\n",
    "print()\n",
    "\n",
    "array_4_by_2 = array1.reshape((4,2))\n",
    "print(\"array 1 reshaped to 4 by 2 matrix:\")\n",
    "print(array_4_by_2)\n",
    "print()\n",
    "\n",
    "array_2x2x2 = array1.reshape((2,2,2))\n",
    "print(\"array 1 reshaped to 2x2x2 matrix:\")\n",
    "print(array_2x2x2)\n",
    "print()\n",
    "\n",
    "array_8_by_1 = array1.reshape((8,1))\n",
    "print(\"array 1 reshaped to 8 by 1 matrix:\")\n",
    "print(array_8_by_1)\n",
    "\n"
   ]
  },
  {
   "cell_type": "markdown",
   "id": "8d4e615e-8740-4ec4-b315-6a4425507ea2",
   "metadata": {},
   "source": [
    "## Vertically stacking Vectors or matrices"
   ]
  },
  {
   "cell_type": "code",
   "execution_count": 69,
   "id": "87310c04-9eb9-4123-8bef-db6beaa0239a",
   "metadata": {},
   "outputs": [
    {
     "name": "stdout",
     "output_type": "stream",
     "text": [
      "Vector 1:\n",
      "[1 2 3 4]\n",
      "\n",
      "Vector 2:\n",
      "[5 6 7 8]\n",
      "\n",
      "v1 stacked over v2:\n",
      "[[1 2 3 4]\n",
      " [5 6 7 8]]\n",
      "\n",
      "v1 stacked over v1, stacked over v2, stacked over v2:\n",
      "[[1 2 3 4]\n",
      " [1 2 3 4]\n",
      " [5 6 7 8]\n",
      " [5 6 7 8]]\n"
     ]
    }
   ],
   "source": [
    "v1 = np.array([1,2,3,4])\n",
    "v2 = np.array([5,6,7,8])\n",
    "print(\"Vector 1:\")\n",
    "print(v1)\n",
    "print()\n",
    "print(\"Vector 2:\")\n",
    "print(v2)\n",
    "print()\n",
    "\n",
    "# Single vertical stacking\n",
    "print(\"v1 stacked over v2:\")\n",
    "v3 = np.vstack((v1,v2))\n",
    "print(v3)\n",
    "print()\n",
    "\n",
    "\n",
    "# Multiple Vertical stacking\n",
    "\n",
    "v4 = np.vstack([v1,v1,v2,v2])\n",
    "print(\"v1 stacked over v1, stacked over v2, stacked over v2:\")\n",
    "print(v4)"
   ]
  },
  {
   "cell_type": "markdown",
   "id": "4e482090-f7c0-4664-b17f-d58f51955bc0",
   "metadata": {},
   "source": [
    "## Horizontal stacking of Vectors"
   ]
  },
  {
   "cell_type": "code",
   "execution_count": 76,
   "id": "5be09788-26b6-424a-b398-4645be2ddd67",
   "metadata": {},
   "outputs": [
    {
     "name": "stdout",
     "output_type": "stream",
     "text": [
      "[[1. 1. 1. 1.]\n",
      " [1. 1. 1. 1.]]\n",
      "\n",
      "[[0. 0.]\n",
      " [0. 0.]]\n",
      "\n",
      "[[1. 1. 1. 1. 0. 0.]\n",
      " [1. 1. 1. 1. 0. 0.]]\n"
     ]
    }
   ],
   "source": [
    "h1 = np.ones((2,4))\n",
    "print(h1)\n",
    "print()\n",
    "\n",
    "h2 = np.zeros((2,2))\n",
    "print(h2)\n",
    "print()\n",
    "\n",
    "h3 = np.hstack((h1,h2))\n",
    "print(h3)"
   ]
  },
  {
   "cell_type": "code",
   "execution_count": null,
   "id": "0ec069e8-dcd3-4350-b777-9e3d90ff0245",
   "metadata": {},
   "outputs": [],
   "source": []
  }
 ],
 "metadata": {
  "kernelspec": {
   "display_name": "Python 3 (ipykernel)",
   "language": "python",
   "name": "python3"
  },
  "language_info": {
   "codemirror_mode": {
    "name": "ipython",
    "version": 3
   },
   "file_extension": ".py",
   "mimetype": "text/x-python",
   "name": "python",
   "nbconvert_exporter": "python",
   "pygments_lexer": "ipython3",
   "version": "3.12.1"
  }
 },
 "nbformat": 4,
 "nbformat_minor": 5
}
