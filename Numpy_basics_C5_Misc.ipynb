{
 "cells": [
  {
   "cell_type": "markdown",
   "id": "017d9755-6fa9-4308-83d9-dec11a46906a",
   "metadata": {},
   "source": [
    "# Miscellaeous"
   ]
  },
  {
   "cell_type": "markdown",
   "id": "e2816074-2aab-4a44-a7e3-acf2f7b37a04",
   "metadata": {},
   "source": [
    "## Loading from a file"
   ]
  },
  {
   "cell_type": "code",
   "execution_count": 13,
   "id": "291060b3-7ca7-4711-a39b-be29e52deada",
   "metadata": {},
   "outputs": [
    {
     "name": "stdout",
     "output_type": "stream",
     "text": [
      "[[43 22  7 85 14 99 55 36 61 10]\n",
      " [83 79 58 57 80 18 97 54 35 29]\n",
      " [53 63 13 27 92 88 62  9 26 60]\n",
      " [91 32 17 46 31 71 16 74 11 39]\n",
      " [59 67 41 86 19 20 94 47 25 37]\n",
      " [ 1 81 82 65 28 40 45 68 30 33]\n",
      " [70 42 44 95 76 50 77 73 90 48]\n",
      " [72 21  5 38 75 69 56 84 23 87]\n",
      " [51 66 96 64 89 12 93 34 49 15]]\n",
      "\n",
      "Min of filedata : 1\n",
      "\n",
      "Max of filedata : 99\n",
      "\n",
      "Sum of filedata : 4675\n"
     ]
    }
   ],
   "source": [
    "import numpy as np\n",
    "\n",
    "filedata = np.genfromtxt('numbers.txt', delimiter = ',')\n",
    "filedata = filedata.astype('int32')\n",
    "print(filedata)\n",
    "print()\n",
    "\n",
    "filedata_min = np.min(filedata)\n",
    "print(\"Min of filedata :\", filedata_min)\n",
    "print()\n",
    "\n",
    "filedata_max = np.max(filedata)\n",
    "print(\"Max of filedata :\", filedata_max)\n",
    "print()\n",
    "\n",
    "filedata_sum = np.sum(filedata)\n",
    "print(\"Sum of filedata :\", filedata_sum)\n"
   ]
  },
  {
   "cell_type": "markdown",
   "id": "fe51ee8d-a5ed-4084-b9e8-bf21f9a3afa6",
   "metadata": {},
   "source": [
    "## Boolean masking and advanced indexing"
   ]
  },
  {
   "cell_type": "code",
   "execution_count": 15,
   "id": "33074bfc-f254-4566-a666-cceaeda05214",
   "metadata": {},
   "outputs": [
    {
     "data": {
      "text/plain": [
       "array([[False, False, False,  True, False,  True,  True, False,  True,\n",
       "        False],\n",
       "       [ True,  True,  True,  True,  True, False,  True,  True, False,\n",
       "        False],\n",
       "       [ True,  True, False, False,  True,  True,  True, False, False,\n",
       "         True],\n",
       "       [ True, False, False, False, False,  True, False,  True, False,\n",
       "        False],\n",
       "       [ True,  True, False,  True, False, False,  True, False, False,\n",
       "        False],\n",
       "       [False,  True,  True,  True, False, False, False,  True, False,\n",
       "        False],\n",
       "       [ True, False, False,  True,  True, False,  True,  True,  True,\n",
       "        False],\n",
       "       [ True, False, False, False,  True,  True,  True,  True, False,\n",
       "         True],\n",
       "       [ True,  True,  True,  True,  True, False,  True, False, False,\n",
       "        False]])"
      ]
     },
     "execution_count": 15,
     "metadata": {},
     "output_type": "execute_result"
    }
   ],
   "source": [
    "#check which elements are greater than 50 or not\n",
    "filedata > 50"
   ]
  },
  {
   "cell_type": "code",
   "execution_count": 16,
   "id": "43e62c21-0348-498c-b71c-458765a21f98",
   "metadata": {},
   "outputs": [
    {
     "data": {
      "text/plain": [
       "array([85, 99, 55, 61, 83, 79, 58, 57, 80, 97, 54, 53, 63, 92, 88, 62, 60,\n",
       "       91, 71, 74, 59, 67, 86, 94, 81, 82, 65, 68, 70, 95, 76, 77, 73, 90,\n",
       "       72, 75, 69, 56, 84, 87, 51, 66, 96, 64, 89, 93])"
      ]
     },
     "execution_count": 16,
     "metadata": {},
     "output_type": "execute_result"
    }
   ],
   "source": [
    "#get all the elements greater than 50\n",
    "filedata[filedata > 50]"
   ]
  },
  {
   "cell_type": "markdown",
   "id": "32b0b0b0-6bc1-4237-ac81-1b52b11c7125",
   "metadata": {},
   "source": [
    "## Find if any or all the data is equal, greater or whatever "
   ]
  },
  {
   "cell_type": "code",
   "execution_count": 23,
   "id": "b674ffb5-500e-40c8-9884-c8c7cba0f9b7",
   "metadata": {},
   "outputs": [
    {
     "name": "stdout",
     "output_type": "stream",
     "text": [
      "[[43 22  7 85 14 99 55 36 61 10]\n",
      " [83 79 58 57 80 18 97 54 35 29]\n",
      " [53 63 13 27 92 88 62  9 26 60]\n",
      " [91 32 17 46 31 71 16 74 11 39]\n",
      " [59 67 41 86 19 20 94 47 25 37]\n",
      " [ 1 81 82 65 28 40 45 68 30 33]\n",
      " [70 42 44 95 76 50 77 73 90 48]\n",
      " [72 21  5 38 75 69 56 84 23 87]\n",
      " [51 66 96 64 89 12 93 34 49 15]]\n",
      "\n",
      "[ True  True  True  True  True  True  True  True  True  True]\n",
      "\n",
      "[False False False False False False False False False False]\n",
      "\n",
      "[False False False False False False False False False]\n"
     ]
    }
   ],
   "source": [
    "any = np.any(filedata > 50, axis = 0 )\n",
    "print(filedata)\n",
    "print()\n",
    "print(any)\n",
    "\n",
    "all_axis0 = np.all(filedata > 50, axis = 0 )\n",
    "print()\n",
    "print(all_axis0)\n",
    "\n",
    "all_axis1 = np.all(filedata > 50, axis = 1 )\n",
    "print()\n",
    "print(all_axis1)"
   ]
  },
  {
   "cell_type": "code",
   "execution_count": 24,
   "id": "2492753b-9d3d-489c-8bed-e936b5b4d19e",
   "metadata": {},
   "outputs": [
    {
     "data": {
      "text/plain": [
       "array([[False, False, False, False, False, False,  True, False,  True,\n",
       "        False],\n",
       "       [False,  True,  True,  True, False, False, False,  True, False,\n",
       "        False],\n",
       "       [ True,  True, False, False, False, False,  True, False, False,\n",
       "         True],\n",
       "       [False, False, False, False, False,  True, False,  True, False,\n",
       "        False],\n",
       "       [ True,  True, False, False, False, False, False, False, False,\n",
       "        False],\n",
       "       [False, False, False,  True, False, False, False,  True, False,\n",
       "        False],\n",
       "       [ True, False, False, False,  True, False,  True,  True, False,\n",
       "        False],\n",
       "       [ True, False, False, False,  True,  True,  True, False, False,\n",
       "        False],\n",
       "       [ True,  True, False,  True, False, False, False, False, False,\n",
       "        False]])"
      ]
     },
     "execution_count": 24,
     "metadata": {},
     "output_type": "execute_result"
    }
   ],
   "source": [
    "# To get if elements are greater than 50 and smaller than 80\n",
    "\n",
    "((filedata > 50) &(filedata < 80))"
   ]
  },
  {
   "cell_type": "code",
   "execution_count": 25,
   "id": "ea6a616c-cd69-4e1f-952b-62eae107b2c5",
   "metadata": {},
   "outputs": [
    {
     "data": {
      "text/plain": [
       "array([[ True,  True,  True,  True,  True,  True, False,  True, False,\n",
       "         True],\n",
       "       [ True, False, False, False,  True,  True,  True, False,  True,\n",
       "         True],\n",
       "       [False, False,  True,  True,  True,  True, False,  True,  True,\n",
       "        False],\n",
       "       [ True,  True,  True,  True,  True, False,  True, False,  True,\n",
       "         True],\n",
       "       [False, False,  True,  True,  True,  True,  True,  True,  True,\n",
       "         True],\n",
       "       [ True,  True,  True, False,  True,  True,  True, False,  True,\n",
       "         True],\n",
       "       [False,  True,  True,  True, False,  True, False, False,  True,\n",
       "         True],\n",
       "       [False,  True,  True,  True, False, False, False,  True,  True,\n",
       "         True],\n",
       "       [False, False,  True, False,  True,  True,  True,  True,  True,\n",
       "         True]])"
      ]
     },
     "execution_count": 25,
     "metadata": {},
     "output_type": "execute_result"
    }
   ],
   "source": [
    "# To get if elements are NOT greater than 50 and smaller than 80\n",
    "\n",
    "(~((filedata > 50) &(filedata < 80)))"
   ]
  },
  {
   "cell_type": "markdown",
   "id": "c6c472f8-f6cb-4667-8972-1d8cc0e742c8",
   "metadata": {},
   "source": [
    "## indexing with a list"
   ]
  },
  {
   "cell_type": "code",
   "execution_count": 18,
   "id": "6cad4479-240e-4a3a-be7a-0dafb9d2eb1e",
   "metadata": {},
   "outputs": [
    {
     "data": {
      "text/plain": [
       "array([2, 3, 9])"
      ]
     },
     "execution_count": 18,
     "metadata": {},
     "output_type": "execute_result"
    }
   ],
   "source": [
    "# to get the elments 2,4 and 9 from the list\n",
    "\n",
    "a = np.array([1,2,3,4,5,6,7,8,9])\n",
    "a[[1,2,8]]"
   ]
  },
  {
   "cell_type": "markdown",
   "id": "783cb91d-4620-4cbe-92ef-36c9eeb5d2ff",
   "metadata": {},
   "source": [
    "## Quick Little test\n",
    "\n",
    "- 1 2 3 4 5\n",
    "- 6 7 8 9 10\n",
    "- __11__ __12__ 13 14 15\n",
    "- __16__ __17__ 18 19 20\n",
    "- 21 22 23 24 25\n",
    "- 26 27 28 29 30\n",
    "\n",
    "How will you index the bold elements in the above vector"
   ]
  },
  {
   "cell_type": "code",
   "execution_count": 28,
   "id": "0370918e-ee9b-4abd-8a1d-fb7ccfc49602",
   "metadata": {},
   "outputs": [
    {
     "name": "stdout",
     "output_type": "stream",
     "text": [
      "[[ 1  2  3  4  5]\n",
      " [ 6  7  8  9 10]\n",
      " [11 12 13 14 15]\n",
      " [16 17 18 19 20]\n",
      " [21 22 23 24 25]\n",
      " [26 27 28 29 30]]\n"
     ]
    },
    {
     "data": {
      "text/plain": [
       "array([[11, 12],\n",
       "       [16, 17]])"
      ]
     },
     "execution_count": 28,
     "metadata": {},
     "output_type": "execute_result"
    }
   ],
   "source": [
    "a = np.array([[1,2,3,4,5],[6,7,8,9,10],[11,12,13,14,15],[16,17,18,19,20],[21,22,23,24,25,],[26,27,28,29,30]])\n",
    "print(a)\n",
    "\n",
    "a[2:4,0:2]"
   ]
  },
  {
   "cell_type": "code",
   "execution_count": 29,
   "id": "e2cc244a-c85a-4ceb-90c4-b3ab7dd05eb7",
   "metadata": {},
   "outputs": [
    {
     "data": {
      "text/plain": [
       "array([ 2,  8, 14, 20])"
      ]
     },
     "execution_count": 29,
     "metadata": {},
     "output_type": "execute_result"
    }
   ],
   "source": [
    "# to get 2,8, 14, 20\n",
    "\n",
    "a[[0,1,2,3],[1,2,3,4]]"
   ]
  },
  {
   "cell_type": "code",
   "execution_count": 36,
   "id": "e734c89b-2b19-4213-82d0-bba3e40b1031",
   "metadata": {},
   "outputs": [
    {
     "name": "stdout",
     "output_type": "stream",
     "text": [
      "[[ 1  2  3  4  5]\n",
      " [ 6  7  8  9 10]\n",
      " [11 12 13 14 15]\n",
      " [16 17 18 19 20]\n",
      " [21 22 23 24 25]\n",
      " [26 27 28 29 30]]\n"
     ]
    },
    {
     "data": {
      "text/plain": [
       "array([[ 4,  5],\n",
       "       [24, 25],\n",
       "       [29, 30]])"
      ]
     },
     "execution_count": 36,
     "metadata": {},
     "output_type": "execute_result"
    }
   ],
   "source": [
    "# to get 4, 5, 24, 25, 29 and 30\n",
    "a = np.array([[1,2,3,4,5],[6,7,8,9,10],[11,12,13,14,15],[16,17,18,19,20],[21,22,23,24,25,],[26,27,28,29,30]])\n",
    "print(a)\n",
    "a[[0,4,5],3:]"
   ]
  },
  {
   "cell_type": "code",
   "execution_count": null,
   "id": "edcdedd3-5571-4f68-837a-861f2e7b21fb",
   "metadata": {},
   "outputs": [],
   "source": []
  }
 ],
 "metadata": {
  "kernelspec": {
   "display_name": "Python 3 (ipykernel)",
   "language": "python",
   "name": "python3"
  },
  "language_info": {
   "codemirror_mode": {
    "name": "ipython",
    "version": 3
   },
   "file_extension": ".py",
   "mimetype": "text/x-python",
   "name": "python",
   "nbconvert_exporter": "python",
   "pygments_lexer": "ipython3",
   "version": "3.12.1"
  }
 },
 "nbformat": 4,
 "nbformat_minor": 5
}
